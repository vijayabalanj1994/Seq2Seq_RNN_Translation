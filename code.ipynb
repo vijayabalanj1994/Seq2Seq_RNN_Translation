{
 "cells": [
  {
   "cell_type": "markdown",
   "id": "8402e76f-3ea6-4023-adc1-e743ed946964",
   "metadata": {},
   "source": [
    "## Importing required libraries"
   ]
  },
  {
   "cell_type": "code",
   "execution_count": 1,
   "id": "0333f49c-a1e5-491a-8195-e4319992527d",
   "metadata": {},
   "outputs": [],
   "source": [
    "# suppressing warnings\n",
    "def warn(*args, **kwargs):\n",
    "    pass\n",
    "import warnings\n",
    "warnings.warn = warn\n",
    "warnings.filterwarnings('ignore')"
   ]
  },
  {
   "cell_type": "code",
   "execution_count": 2,
   "id": "2168c0b4-3e42-4f8d-9349-1f729a61b474",
   "metadata": {
    "collapsed": true,
    "jupyter": {
     "outputs_hidden": true
    }
   },
   "outputs": [
    {
     "name": "stdout",
     "output_type": "stream",
     "text": [
      "Collecting en-core-web-sm==3.7.1\n",
      "  Downloading https://github.com/explosion/spacy-models/releases/download/en_core_web_sm-3.7.1/en_core_web_sm-3.7.1-py3-none-any.whl (12.8 MB)\n",
      "     ---------------------------------------- 0.0/12.8 MB ? eta -:--:--\n",
      "     ------ --------------------------------- 2.1/12.8 MB 13.0 MB/s eta 0:00:01\n",
      "     ------------ --------------------------- 3.9/12.8 MB 10.2 MB/s eta 0:00:01\n",
      "     -------------------- ------------------- 6.6/12.8 MB 10.9 MB/s eta 0:00:01\n",
      "     ---------------------------- ----------- 9.2/12.8 MB 11.2 MB/s eta 0:00:01\n",
      "     ----------------------------------- --- 11.5/12.8 MB 11.3 MB/s eta 0:00:01\n",
      "     --------------------------------------- 12.8/12.8 MB 11.1 MB/s eta 0:00:00\n",
      "Requirement already satisfied: spacy<3.8.0,>=3.7.2 in c:\\users\\vijay\\anaconda3\\envs\\ibm_cuda\\lib\\site-packages (from en-core-web-sm==3.7.1) (3.7.2)\n",
      "Requirement already satisfied: spacy-legacy<3.1.0,>=3.0.11 in c:\\users\\vijay\\anaconda3\\envs\\ibm_cuda\\lib\\site-packages (from spacy<3.8.0,>=3.7.2->en-core-web-sm==3.7.1) (3.0.12)\n",
      "Requirement already satisfied: spacy-loggers<2.0.0,>=1.0.0 in c:\\users\\vijay\\anaconda3\\envs\\ibm_cuda\\lib\\site-packages (from spacy<3.8.0,>=3.7.2->en-core-web-sm==3.7.1) (1.0.4)\n",
      "Requirement already satisfied: murmurhash<1.1.0,>=0.28.0 in c:\\users\\vijay\\anaconda3\\envs\\ibm_cuda\\lib\\site-packages (from spacy<3.8.0,>=3.7.2->en-core-web-sm==3.7.1) (1.0.7)\n",
      "Requirement already satisfied: cymem<2.1.0,>=2.0.2 in c:\\users\\vijay\\anaconda3\\envs\\ibm_cuda\\lib\\site-packages (from spacy<3.8.0,>=3.7.2->en-core-web-sm==3.7.1) (2.0.6)\n",
      "Requirement already satisfied: preshed<3.1.0,>=3.0.2 in c:\\users\\vijay\\anaconda3\\envs\\ibm_cuda\\lib\\site-packages (from spacy<3.8.0,>=3.7.2->en-core-web-sm==3.7.1) (3.0.6)\n",
      "Requirement already satisfied: thinc<8.3.0,>=8.1.8 in c:\\users\\vijay\\anaconda3\\envs\\ibm_cuda\\lib\\site-packages (from spacy<3.8.0,>=3.7.2->en-core-web-sm==3.7.1) (8.2.2)\n",
      "Requirement already satisfied: wasabi<1.2.0,>=0.9.1 in c:\\users\\vijay\\anaconda3\\envs\\ibm_cuda\\lib\\site-packages (from spacy<3.8.0,>=3.7.2->en-core-web-sm==3.7.1) (0.9.1)\n",
      "Requirement already satisfied: srsly<3.0.0,>=2.4.3 in c:\\users\\vijay\\anaconda3\\envs\\ibm_cuda\\lib\\site-packages (from spacy<3.8.0,>=3.7.2->en-core-web-sm==3.7.1) (2.4.8)\n",
      "Requirement already satisfied: catalogue<2.1.0,>=2.0.6 in c:\\users\\vijay\\anaconda3\\envs\\ibm_cuda\\lib\\site-packages (from spacy<3.8.0,>=3.7.2->en-core-web-sm==3.7.1) (2.0.10)\n",
      "Requirement already satisfied: weasel<0.4.0,>=0.1.0 in c:\\users\\vijay\\anaconda3\\envs\\ibm_cuda\\lib\\site-packages (from spacy<3.8.0,>=3.7.2->en-core-web-sm==3.7.1) (0.3.4)\n",
      "Requirement already satisfied: typer<0.10.0,>=0.3.0 in c:\\users\\vijay\\anaconda3\\envs\\ibm_cuda\\lib\\site-packages (from spacy<3.8.0,>=3.7.2->en-core-web-sm==3.7.1) (0.9.0)\n",
      "Requirement already satisfied: smart-open<7.0.0,>=5.2.1 in c:\\users\\vijay\\anaconda3\\envs\\ibm_cuda\\lib\\site-packages (from spacy<3.8.0,>=3.7.2->en-core-web-sm==3.7.1) (5.2.1)\n",
      "Requirement already satisfied: tqdm<5.0.0,>=4.38.0 in c:\\users\\vijay\\anaconda3\\envs\\ibm_cuda\\lib\\site-packages (from spacy<3.8.0,>=3.7.2->en-core-web-sm==3.7.1) (4.66.5)\n",
      "Requirement already satisfied: requests<3.0.0,>=2.13.0 in c:\\users\\vijay\\anaconda3\\envs\\ibm_cuda\\lib\\site-packages (from spacy<3.8.0,>=3.7.2->en-core-web-sm==3.7.1) (2.32.3)\n",
      "Requirement already satisfied: pydantic!=1.8,!=1.8.1,<3.0.0,>=1.7.4 in c:\\users\\vijay\\anaconda3\\envs\\ibm_cuda\\lib\\site-packages (from spacy<3.8.0,>=3.7.2->en-core-web-sm==3.7.1) (2.8.2)\n",
      "Requirement already satisfied: jinja2 in c:\\users\\vijay\\anaconda3\\envs\\ibm_cuda\\lib\\site-packages (from spacy<3.8.0,>=3.7.2->en-core-web-sm==3.7.1) (3.1.4)\n",
      "Requirement already satisfied: setuptools in c:\\users\\vijay\\anaconda3\\envs\\ibm_cuda\\lib\\site-packages (from spacy<3.8.0,>=3.7.2->en-core-web-sm==3.7.1) (75.1.0)\n",
      "Requirement already satisfied: packaging>=20.0 in c:\\users\\vijay\\anaconda3\\envs\\ibm_cuda\\lib\\site-packages (from spacy<3.8.0,>=3.7.2->en-core-web-sm==3.7.1) (24.1)\n",
      "Requirement already satisfied: langcodes<4.0.0,>=3.2.0 in c:\\users\\vijay\\anaconda3\\envs\\ibm_cuda\\lib\\site-packages (from spacy<3.8.0,>=3.7.2->en-core-web-sm==3.7.1) (3.3.0)\n",
      "Requirement already satisfied: numpy>=1.19.0 in c:\\users\\vijay\\anaconda3\\envs\\ibm_cuda\\lib\\site-packages (from spacy<3.8.0,>=3.7.2->en-core-web-sm==3.7.1) (1.26.4)\n",
      "Requirement already satisfied: annotated-types>=0.4.0 in c:\\users\\vijay\\anaconda3\\envs\\ibm_cuda\\lib\\site-packages (from pydantic!=1.8,!=1.8.1,<3.0.0,>=1.7.4->spacy<3.8.0,>=3.7.2->en-core-web-sm==3.7.1) (0.6.0)\n",
      "Requirement already satisfied: pydantic-core==2.20.1 in c:\\users\\vijay\\anaconda3\\envs\\ibm_cuda\\lib\\site-packages (from pydantic!=1.8,!=1.8.1,<3.0.0,>=1.7.4->spacy<3.8.0,>=3.7.2->en-core-web-sm==3.7.1) (2.20.1)\n",
      "Requirement already satisfied: typing-extensions>=4.6.1 in c:\\users\\vijay\\anaconda3\\envs\\ibm_cuda\\lib\\site-packages (from pydantic!=1.8,!=1.8.1,<3.0.0,>=1.7.4->spacy<3.8.0,>=3.7.2->en-core-web-sm==3.7.1) (4.11.0)\n",
      "Requirement already satisfied: charset-normalizer<4,>=2 in c:\\users\\vijay\\anaconda3\\envs\\ibm_cuda\\lib\\site-packages (from requests<3.0.0,>=2.13.0->spacy<3.8.0,>=3.7.2->en-core-web-sm==3.7.1) (3.3.2)\n",
      "Requirement already satisfied: idna<4,>=2.5 in c:\\users\\vijay\\anaconda3\\envs\\ibm_cuda\\lib\\site-packages (from requests<3.0.0,>=2.13.0->spacy<3.8.0,>=3.7.2->en-core-web-sm==3.7.1) (3.7)\n",
      "Requirement already satisfied: urllib3<3,>=1.21.1 in c:\\users\\vijay\\anaconda3\\envs\\ibm_cuda\\lib\\site-packages (from requests<3.0.0,>=2.13.0->spacy<3.8.0,>=3.7.2->en-core-web-sm==3.7.1) (2.2.3)\n",
      "Requirement already satisfied: certifi>=2017.4.17 in c:\\users\\vijay\\anaconda3\\envs\\ibm_cuda\\lib\\site-packages (from requests<3.0.0,>=2.13.0->spacy<3.8.0,>=3.7.2->en-core-web-sm==3.7.1) (2024.8.30)\n",
      "Requirement already satisfied: blis<0.8.0,>=0.7.8 in c:\\users\\vijay\\anaconda3\\envs\\ibm_cuda\\lib\\site-packages (from thinc<8.3.0,>=8.1.8->spacy<3.8.0,>=3.7.2->en-core-web-sm==3.7.1) (0.7.9)\n",
      "Requirement already satisfied: confection<1.0.0,>=0.0.1 in c:\\users\\vijay\\anaconda3\\envs\\ibm_cuda\\lib\\site-packages (from thinc<8.3.0,>=8.1.8->spacy<3.8.0,>=3.7.2->en-core-web-sm==3.7.1) (0.1.4)\n",
      "Requirement already satisfied: colorama in c:\\users\\vijay\\anaconda3\\envs\\ibm_cuda\\lib\\site-packages (from tqdm<5.0.0,>=4.38.0->spacy<3.8.0,>=3.7.2->en-core-web-sm==3.7.1) (0.4.6)\n",
      "Requirement already satisfied: click<9.0.0,>=7.1.1 in c:\\users\\vijay\\anaconda3\\envs\\ibm_cuda\\lib\\site-packages (from typer<0.10.0,>=0.3.0->spacy<3.8.0,>=3.7.2->en-core-web-sm==3.7.1) (8.1.7)\n",
      "Requirement already satisfied: cloudpathlib<0.17.0,>=0.7.0 in c:\\users\\vijay\\anaconda3\\envs\\ibm_cuda\\lib\\site-packages (from weasel<0.4.0,>=0.1.0->spacy<3.8.0,>=3.7.2->en-core-web-sm==3.7.1) (0.16.0)\n",
      "Requirement already satisfied: MarkupSafe>=2.0 in c:\\users\\vijay\\anaconda3\\envs\\ibm_cuda\\lib\\site-packages (from jinja2->spacy<3.8.0,>=3.7.2->en-core-web-sm==3.7.1) (2.1.3)\n",
      "[+] Download and installation successful\n",
      "You can now load the package via spacy.load('en_core_web_sm')\n",
      "Collecting de-core-news-sm==3.7.0\n",
      "  Downloading https://github.com/explosion/spacy-models/releases/download/de_core_news_sm-3.7.0/de_core_news_sm-3.7.0-py3-none-any.whl (14.6 MB)\n",
      "     ---------------------------------------- 0.0/14.6 MB ? eta -:--:--\n",
      "     ----- ---------------------------------- 2.1/14.6 MB 13.0 MB/s eta 0:00:01\n",
      "     ----------- ---------------------------- 4.2/14.6 MB 11.0 MB/s eta 0:00:01\n",
      "     ------------------ --------------------- 6.8/14.6 MB 11.3 MB/s eta 0:00:01\n",
      "     ------------------------- -------------- 9.4/14.6 MB 11.7 MB/s eta 0:00:01\n",
      "     -------------------------------- ------ 12.1/14.6 MB 12.0 MB/s eta 0:00:01\n",
      "     --------------------------------------  14.4/14.6 MB 12.2 MB/s eta 0:00:01\n",
      "     --------------------------------------- 14.6/14.6 MB 12.0 MB/s eta 0:00:00\n",
      "Requirement already satisfied: spacy<3.8.0,>=3.7.0 in c:\\users\\vijay\\anaconda3\\envs\\ibm_cuda\\lib\\site-packages (from de-core-news-sm==3.7.0) (3.7.2)\n",
      "Requirement already satisfied: spacy-legacy<3.1.0,>=3.0.11 in c:\\users\\vijay\\anaconda3\\envs\\ibm_cuda\\lib\\site-packages (from spacy<3.8.0,>=3.7.0->de-core-news-sm==3.7.0) (3.0.12)\n",
      "Requirement already satisfied: spacy-loggers<2.0.0,>=1.0.0 in c:\\users\\vijay\\anaconda3\\envs\\ibm_cuda\\lib\\site-packages (from spacy<3.8.0,>=3.7.0->de-core-news-sm==3.7.0) (1.0.4)\n",
      "Requirement already satisfied: murmurhash<1.1.0,>=0.28.0 in c:\\users\\vijay\\anaconda3\\envs\\ibm_cuda\\lib\\site-packages (from spacy<3.8.0,>=3.7.0->de-core-news-sm==3.7.0) (1.0.7)\n",
      "Requirement already satisfied: cymem<2.1.0,>=2.0.2 in c:\\users\\vijay\\anaconda3\\envs\\ibm_cuda\\lib\\site-packages (from spacy<3.8.0,>=3.7.0->de-core-news-sm==3.7.0) (2.0.6)\n",
      "Requirement already satisfied: preshed<3.1.0,>=3.0.2 in c:\\users\\vijay\\anaconda3\\envs\\ibm_cuda\\lib\\site-packages (from spacy<3.8.0,>=3.7.0->de-core-news-sm==3.7.0) (3.0.6)\n",
      "Requirement already satisfied: thinc<8.3.0,>=8.1.8 in c:\\users\\vijay\\anaconda3\\envs\\ibm_cuda\\lib\\site-packages (from spacy<3.8.0,>=3.7.0->de-core-news-sm==3.7.0) (8.2.2)\n",
      "Requirement already satisfied: wasabi<1.2.0,>=0.9.1 in c:\\users\\vijay\\anaconda3\\envs\\ibm_cuda\\lib\\site-packages (from spacy<3.8.0,>=3.7.0->de-core-news-sm==3.7.0) (0.9.1)\n",
      "Requirement already satisfied: srsly<3.0.0,>=2.4.3 in c:\\users\\vijay\\anaconda3\\envs\\ibm_cuda\\lib\\site-packages (from spacy<3.8.0,>=3.7.0->de-core-news-sm==3.7.0) (2.4.8)\n",
      "Requirement already satisfied: catalogue<2.1.0,>=2.0.6 in c:\\users\\vijay\\anaconda3\\envs\\ibm_cuda\\lib\\site-packages (from spacy<3.8.0,>=3.7.0->de-core-news-sm==3.7.0) (2.0.10)\n",
      "Requirement already satisfied: weasel<0.4.0,>=0.1.0 in c:\\users\\vijay\\anaconda3\\envs\\ibm_cuda\\lib\\site-packages (from spacy<3.8.0,>=3.7.0->de-core-news-sm==3.7.0) (0.3.4)\n",
      "Requirement already satisfied: typer<0.10.0,>=0.3.0 in c:\\users\\vijay\\anaconda3\\envs\\ibm_cuda\\lib\\site-packages (from spacy<3.8.0,>=3.7.0->de-core-news-sm==3.7.0) (0.9.0)\n",
      "Requirement already satisfied: smart-open<7.0.0,>=5.2.1 in c:\\users\\vijay\\anaconda3\\envs\\ibm_cuda\\lib\\site-packages (from spacy<3.8.0,>=3.7.0->de-core-news-sm==3.7.0) (5.2.1)\n",
      "Requirement already satisfied: tqdm<5.0.0,>=4.38.0 in c:\\users\\vijay\\anaconda3\\envs\\ibm_cuda\\lib\\site-packages (from spacy<3.8.0,>=3.7.0->de-core-news-sm==3.7.0) (4.66.5)\n",
      "Requirement already satisfied: requests<3.0.0,>=2.13.0 in c:\\users\\vijay\\anaconda3\\envs\\ibm_cuda\\lib\\site-packages (from spacy<3.8.0,>=3.7.0->de-core-news-sm==3.7.0) (2.32.3)\n",
      "Requirement already satisfied: pydantic!=1.8,!=1.8.1,<3.0.0,>=1.7.4 in c:\\users\\vijay\\anaconda3\\envs\\ibm_cuda\\lib\\site-packages (from spacy<3.8.0,>=3.7.0->de-core-news-sm==3.7.0) (2.8.2)\n",
      "Requirement already satisfied: jinja2 in c:\\users\\vijay\\anaconda3\\envs\\ibm_cuda\\lib\\site-packages (from spacy<3.8.0,>=3.7.0->de-core-news-sm==3.7.0) (3.1.4)\n",
      "Requirement already satisfied: setuptools in c:\\users\\vijay\\anaconda3\\envs\\ibm_cuda\\lib\\site-packages (from spacy<3.8.0,>=3.7.0->de-core-news-sm==3.7.0) (75.1.0)\n",
      "Requirement already satisfied: packaging>=20.0 in c:\\users\\vijay\\anaconda3\\envs\\ibm_cuda\\lib\\site-packages (from spacy<3.8.0,>=3.7.0->de-core-news-sm==3.7.0) (24.1)\n",
      "Requirement already satisfied: langcodes<4.0.0,>=3.2.0 in c:\\users\\vijay\\anaconda3\\envs\\ibm_cuda\\lib\\site-packages (from spacy<3.8.0,>=3.7.0->de-core-news-sm==3.7.0) (3.3.0)\n",
      "Requirement already satisfied: numpy>=1.19.0 in c:\\users\\vijay\\anaconda3\\envs\\ibm_cuda\\lib\\site-packages (from spacy<3.8.0,>=3.7.0->de-core-news-sm==3.7.0) (1.26.4)\n",
      "Requirement already satisfied: annotated-types>=0.4.0 in c:\\users\\vijay\\anaconda3\\envs\\ibm_cuda\\lib\\site-packages (from pydantic!=1.8,!=1.8.1,<3.0.0,>=1.7.4->spacy<3.8.0,>=3.7.0->de-core-news-sm==3.7.0) (0.6.0)\n",
      "Requirement already satisfied: pydantic-core==2.20.1 in c:\\users\\vijay\\anaconda3\\envs\\ibm_cuda\\lib\\site-packages (from pydantic!=1.8,!=1.8.1,<3.0.0,>=1.7.4->spacy<3.8.0,>=3.7.0->de-core-news-sm==3.7.0) (2.20.1)\n",
      "Requirement already satisfied: typing-extensions>=4.6.1 in c:\\users\\vijay\\anaconda3\\envs\\ibm_cuda\\lib\\site-packages (from pydantic!=1.8,!=1.8.1,<3.0.0,>=1.7.4->spacy<3.8.0,>=3.7.0->de-core-news-sm==3.7.0) (4.11.0)\n",
      "Requirement already satisfied: charset-normalizer<4,>=2 in c:\\users\\vijay\\anaconda3\\envs\\ibm_cuda\\lib\\site-packages (from requests<3.0.0,>=2.13.0->spacy<3.8.0,>=3.7.0->de-core-news-sm==3.7.0) (3.3.2)\n",
      "Requirement already satisfied: idna<4,>=2.5 in c:\\users\\vijay\\anaconda3\\envs\\ibm_cuda\\lib\\site-packages (from requests<3.0.0,>=2.13.0->spacy<3.8.0,>=3.7.0->de-core-news-sm==3.7.0) (3.7)\n",
      "Requirement already satisfied: urllib3<3,>=1.21.1 in c:\\users\\vijay\\anaconda3\\envs\\ibm_cuda\\lib\\site-packages (from requests<3.0.0,>=2.13.0->spacy<3.8.0,>=3.7.0->de-core-news-sm==3.7.0) (2.2.3)\n",
      "Requirement already satisfied: certifi>=2017.4.17 in c:\\users\\vijay\\anaconda3\\envs\\ibm_cuda\\lib\\site-packages (from requests<3.0.0,>=2.13.0->spacy<3.8.0,>=3.7.0->de-core-news-sm==3.7.0) (2024.8.30)\n",
      "Requirement already satisfied: blis<0.8.0,>=0.7.8 in c:\\users\\vijay\\anaconda3\\envs\\ibm_cuda\\lib\\site-packages (from thinc<8.3.0,>=8.1.8->spacy<3.8.0,>=3.7.0->de-core-news-sm==3.7.0) (0.7.9)\n",
      "Requirement already satisfied: confection<1.0.0,>=0.0.1 in c:\\users\\vijay\\anaconda3\\envs\\ibm_cuda\\lib\\site-packages (from thinc<8.3.0,>=8.1.8->spacy<3.8.0,>=3.7.0->de-core-news-sm==3.7.0) (0.1.4)\n",
      "Requirement already satisfied: colorama in c:\\users\\vijay\\anaconda3\\envs\\ibm_cuda\\lib\\site-packages (from tqdm<5.0.0,>=4.38.0->spacy<3.8.0,>=3.7.0->de-core-news-sm==3.7.0) (0.4.6)\n",
      "Requirement already satisfied: click<9.0.0,>=7.1.1 in c:\\users\\vijay\\anaconda3\\envs\\ibm_cuda\\lib\\site-packages (from typer<0.10.0,>=0.3.0->spacy<3.8.0,>=3.7.0->de-core-news-sm==3.7.0) (8.1.7)\n",
      "Requirement already satisfied: cloudpathlib<0.17.0,>=0.7.0 in c:\\users\\vijay\\anaconda3\\envs\\ibm_cuda\\lib\\site-packages (from weasel<0.4.0,>=0.1.0->spacy<3.8.0,>=3.7.0->de-core-news-sm==3.7.0) (0.16.0)\n",
      "Requirement already satisfied: MarkupSafe>=2.0 in c:\\users\\vijay\\anaconda3\\envs\\ibm_cuda\\lib\\site-packages (from jinja2->spacy<3.8.0,>=3.7.0->de-core-news-sm==3.7.0) (2.1.3)\n",
      "[+] Download and installation successful\n",
      "You can now load the package via spacy.load('de_core_news_sm')\n"
     ]
    }
   ],
   "source": [
    "import numpy as np\n",
    "import random\n",
    "import math\n",
    "import time\n",
    "from tqdm import tqdm\n",
    "import matplotlib.pyplot as plt\n",
    "from typing import Iterable, List\n",
    "\n",
    "import torch\n",
    "import torch.nn as nn\n",
    "import torch.optim as optim\n",
    "from torch.nn.utils.rnn import pad_sequence\n",
    "from torch.utils.data import DataLoader\n",
    "\n",
    "import torchtext\n",
    "from torchtext.data.utils import get_tokenizer\n",
    "from torchtext.vocab import build_vocab_from_iterator\n",
    "from torchtext.datasets import multi30k, Multi30k\n",
    "\n",
    "from torchdata.datapipes.iter import IterableWrapper, Mapper\n",
    "\n",
    "from nltk.translate.bleu_score import sentence_bleu\n",
    "\n",
    "!python -m spacy download en_core_web_sm\n",
    "!python -m spacy download de_core_news_sm"
   ]
  },
  {
   "cell_type": "markdown",
   "id": "4ee1b9c6-2ce8-414d-9605-a95fb1668d94",
   "metadata": {},
   "source": [
    "## Checking if CUDA is available"
   ]
  },
  {
   "cell_type": "code",
   "execution_count": 3,
   "id": "0e408c82-34bf-4bd3-8989-af6b3a5d49b3",
   "metadata": {},
   "outputs": [
    {
     "name": "stdout",
     "output_type": "stream",
     "text": [
      "Using cuda device\n"
     ]
    }
   ],
   "source": [
    "device = torch.device(\"cuda\" if torch.cuda.is_available() else \"cpu\")\n",
    "print(f\"Using {device} device\")"
   ]
  },
  {
   "cell_type": "markdown",
   "id": "41c5d3c8-859b-4db0-9dc9-2a558f44623f",
   "metadata": {},
   "source": [
    "## The Encoder"
   ]
  },
  {
   "cell_type": "code",
   "execution_count": 4,
   "id": "34e75790-ea82-443b-a316-590774d8910e",
   "metadata": {},
   "outputs": [],
   "source": [
    "# a rrn implemented using \"nn.EmbeddingBag\", \"nn.LSTM\", \"nn.Dropout\" functions from \"pytorch\" library\n",
    "class Encoder(nn.Module):\n",
    "    def __init__(self, vocab_len, emb_dim, hid_dim, n_layers, dropout_prob):\n",
    "        super().__init__()\n",
    "\n",
    "        self.hid_dim = hid_dim\n",
    "        self.n_layers = n_layers\n",
    "\n",
    "        self.embedding = nn.Embedding(vocab_len, emb_dim)\n",
    "        self.lstm = nn.LSTM(emb_dim, hid_dim, n_layers, dropout=dropout_prob)\n",
    "        self.dropout = nn.Dropout(dropout_prob)\n",
    "\n",
    "    def forward(self, input_batch):\n",
    "        embed = self.dropout(self.embedding(input_batch))\n",
    "        embed = embed.to(device)\n",
    "        outputs, (hidden, cell) = self.lstm(embed)\n",
    "\n",
    "        return hidden, cell"
   ]
  },
  {
   "cell_type": "markdown",
   "id": "8d77f7dd-83cb-40c7-b7bc-3cbf7e777d08",
   "metadata": {},
   "source": [
    "#### Encoder -> example of one forward pass"
   ]
  },
  {
   "cell_type": "code",
   "execution_count": 5,
   "id": "237e17fe-82c7-419f-a620-85dd96482fd4",
   "metadata": {},
   "outputs": [],
   "source": [
    "# dummy data\n",
    "vocab_len = 8\n",
    "emb_dim = 10\n",
    "hid_dim = 8\n",
    "n_layers = 1\n",
    "dropout_prob = 0.5\n",
    "\n",
    "# instantiating the model\n",
    "encoder_t = Encoder(vocab_len, emb_dim, hid_dim, n_layers, dropout_prob).to(device)"
   ]
  },
  {
   "cell_type": "code",
   "execution_count": 6,
   "id": "ab5ed3a5-cbf1-4317-8de9-b7ae86fb4f62",
   "metadata": {},
   "outputs": [
    {
     "name": "stdout",
     "output_type": "stream",
     "text": [
      "Input(src) tensor  [shape -> 5]:-\n",
      " tensor([0, 3, 4, 2, 1], device='cuda:0')\n",
      "\n",
      "Embedded tokens  [shape -> 5]:-\n",
      " tensor([[-0.5747, -1.1600, -0.6047, -1.1889,  0.2840, -0.6863, -0.0109, -0.3284,\n",
      "         -0.1796,  1.0256],\n",
      "        [ 1.0830, -0.0276,  0.0984, -0.3963, -1.4614, -1.7912, -0.5361, -0.1614,\n",
      "         -1.9529, -0.3981],\n",
      "        [-0.9258, -0.4066,  0.8818, -1.3187,  0.7958,  1.6644,  0.5789, -0.4460,\n",
      "          0.4834, -0.3851],\n",
      "        [-1.2413, -1.1788,  2.3537, -0.1122, -2.6231, -1.4404,  0.9435, -0.9235,\n",
      "         -1.0891,  0.8601],\n",
      "        [ 0.3792, -0.0135,  0.2998,  1.1062,  0.3078,  0.4981, -0.1278, -0.5539,\n",
      "          0.0046, -0.4288]], device='cuda:0', grad_fn=<EmbeddingBackward0>)\n",
      "\n",
      "After dropout:-  [shape -> 5]\n",
      " tensor([[-0.0000, -2.3201, -1.2094, -2.3779,  0.5680, -0.0000, -0.0000, -0.6569,\n",
      "         -0.0000,  2.0512],\n",
      "        [ 2.1661, -0.0552,  0.0000, -0.0000, -0.0000, -3.5825, -0.0000, -0.0000,\n",
      "         -0.0000, -0.7961],\n",
      "        [-1.8515, -0.8132,  1.7636, -2.6375,  0.0000,  3.3288,  0.0000, -0.0000,\n",
      "          0.9668, -0.0000],\n",
      "        [-0.0000, -0.0000,  0.0000, -0.0000, -0.0000, -2.8808,  0.0000, -0.0000,\n",
      "         -0.0000,  1.7201],\n",
      "        [ 0.0000, -0.0000,  0.0000,  2.2123,  0.6156,  0.0000, -0.0000, -1.1077,\n",
      "          0.0092, -0.8577]], device='cuda:0', grad_fn=<NativeDropoutBackward0>)\n",
      "\n",
      "Hidden:-         [shape -> 1]\n",
      " tensor([[-0.1492,  0.1294, -0.1099, -0.1086,  0.0991,  0.1022, -0.0818, -0.1443]],\n",
      "       device='cuda:0', grad_fn=<SqueezeBackward1>)\n",
      "\n",
      "Cell:-           [shape -> 1]\n",
      " tensor([[-0.1874,  0.3358, -0.3261, -0.2367,  0.3518,  0.4202, -0.1409, -0.2180]],\n",
      "       device='cuda:0', grad_fn=<SqueezeBackward1>)\n",
      "\n",
      "Output:-         [shape -> 5]\n",
      " tensor([[ 0.0178, -0.2013,  0.0671,  0.1722, -0.4351, -0.1489,  0.2307, -0.1047],\n",
      "        [-0.3885, -0.0060, -0.0404,  0.0163, -0.2333, -0.3712,  0.0589, -0.2108],\n",
      "        [-0.0519,  0.2355, -0.0356,  0.3003, -0.2006, -0.0840,  0.4387,  0.2096],\n",
      "        [-0.1024, -0.0053, -0.1114, -0.0402, -0.4262, -0.2792,  0.1591, -0.1941],\n",
      "        [-0.1492,  0.1294, -0.1099, -0.1086,  0.0991,  0.1022, -0.0818, -0.1443]],\n",
      "       device='cuda:0', grad_fn=<SqueezeBackward1>)\n"
     ]
    }
   ],
   "source": [
    "# dummy data \n",
    "src_batch = torch.tensor([0,3,4,2,1]) #where 0,3,4,2,1 are vocab indecies\n",
    "src_batch = src_batch.t().to(device)\n",
    "\n",
    "# getting the embedding of the text token indices\n",
    "embedded = encoder_t.embedding(src_batch)\n",
    "# appling dropout to embedded\n",
    "embedded_dropout = encoder_t.dropout(embedded)\n",
    "embedded_dropout.to(device)\n",
    "# passing through the lstm\n",
    "outputs, (hidden_t, cell_t) = encoder_t.lstm(embedded_dropout)\n",
    "\n",
    "print(f\"Input(src) tensor  [shape -> {src_batch.shape[0]}]:-\\n\", src_batch)\n",
    "print(f\"\\nEmbedded tokens  [shape -> {embedded.shape[0]}]:-\\n\", embedded)\n",
    "print(f\"\\nAfter dropout:-  [shape -> {embedded_dropout.shape[0]}]\\n\", embedded_dropout)\n",
    "print(f\"\\nHidden:-         [shape -> {hidden_t.shape[0]}]\\n\", hidden_t)\n",
    "print(f\"\\nCell:-           [shape -> {cell_t.shape[0]}]\\n\", cell_t)\n",
    "print(f\"\\nOutput:-         [shape -> {outputs.shape[0]}]\\n\", outputs)"
   ]
  },
  {
   "cell_type": "markdown",
   "id": "2ee057f9-8b8f-45f1-a23a-564783ef295b",
   "metadata": {},
   "source": [
    "## The Decoder"
   ]
  },
  {
   "cell_type": "code",
   "execution_count": 7,
   "id": "d6c2002d-fc3c-41b3-859a-269301a5c773",
   "metadata": {},
   "outputs": [],
   "source": [
    "# a rrn implemented using \"nn.EmbeddingBag\", \"nn.Linear\" ,\"nn.LSTM\", \"nn.Dropout\", \"nn.LogSoftmax\" functions from \"pytorch\" library\n",
    "class Decoder(nn.Module):\n",
    "    def __init__(self, output_dim, emb_dim, hid_dim, n_layers, dropout):\n",
    "        super().__init__()\n",
    "        \n",
    "        self.output_dim = output_dim\n",
    "        self.hid_dim = hid_dim\n",
    "        self.n_layers = n_layers\n",
    "\n",
    "        self.embedding = nn.Embedding(output_dim, emb_dim)\n",
    "        self.lstm = nn.LSTM(emb_dim, hid_dim, n_layers, dropout=dropout)\n",
    "        self.fc_out = nn.Linear(hid_dim, output_dim)\n",
    "        self.softmax = nn.LogSoftmax(dim=1)\n",
    "        self.dropout = nn.Dropout(dropout)\n",
    "\n",
    "    def forward(self, input, hidden, cell):\n",
    "        # input = [batch_size]\n",
    "        input = input.unsqueeze(0) # input = [1, batch_size]\n",
    "        embedded = self.dropout(self.embedding(input))\n",
    "        output, (hidden, cell) = self.lstm(embedded, (hidden, cell))\n",
    "        prediction_logit = self.fc_out(output.squeeze(0))\n",
    "        prediction = self.softmax(prediction_logit)\n",
    "\n",
    "        return prediction, hidden, cell"
   ]
  },
  {
   "cell_type": "markdown",
   "id": "570ffdac-576e-4889-8f6e-1b366a78e748",
   "metadata": {},
   "source": [
    "#### Decoder -> example of one forward pass"
   ]
  },
  {
   "cell_type": "code",
   "execution_count": 8,
   "id": "24f2a99d-786d-4e4e-ba28-1b1b80d02a82",
   "metadata": {},
   "outputs": [],
   "source": [
    "# dummy data\n",
    "output_dim = 6\n",
    "emb_dim = 10\n",
    "hid_dim = 8\n",
    "n_layers = 1\n",
    "dropout = 0.5\n",
    "\n",
    "# instantiating the model\n",
    "decoder_t = Decoder(output_dim, emb_dim, hid_dim, n_layers, dropout).to(device)"
   ]
  },
  {
   "cell_type": "code",
   "execution_count": 37,
   "id": "4b8eccd1-f45e-4d29-bb7c-04ced18b3481",
   "metadata": {},
   "outputs": [],
   "source": [
    "# dummy data \n",
    "input_t = torch.tensor([0]).to(device) # <bos>\n",
    "\n",
    "# getting the embedding of the input text token <bos>\n",
    "embedded = decoder_t.embedding(input_t)\n",
    "# appling dropout to embedded\n",
    "embedded_dropout = decoder_t.dropout(embedded)\n",
    "embedded_dropout.to(device)\n",
    "# passing through the lstm\n",
    "output, (hidden, cell) = decoder_t.lstm(embedded_dropout, (hidden_t, cell_t))\n",
    "# passing through the fully connected layer\n",
    "prediction_logit = decoder_t.fc_out(output)\n",
    "# appling softmax\n",
    "prediction = decoder_t.softmax(prediction_logit)\n",
    "\n",
    "print(f\"Input(target) tensor  [shape -> {input_t.shape[0]}]:-\\n\", input_t)\n",
    "print(f\"\\nEmbedded tokens  [shape -> {embedded.shape[0]}]:-\\n\", embedded)\n",
    "print(f\"\\nAfter dropout:-  [shape -> {embedded_dropout.shape[0]}]\\n\", embedded_dropout)\n",
    "print(f\"\\nRNN Hidden:-     [shape -> {hidden.shape[0]}]\\n\", hidden)\n",
    "print(f\"\\nRNN Cell:-       [shape -> {cell.shape[0]}]\\n\", cell)\n",
    "print(f\"\\nRNN Output:-     [shape -> {output.shape[0]}]\\n\", output)\n",
    "print(f\"\\nFC layer Out:-   [shape -> {prediction_logit.shape[0]}]\\n\", prediction_logit)\n",
    "print(f\"\\nSoftmax to Out:- [shape -> {prediction.shape[0]}]\\n\", prediction)"
   ]
  }
 ],
 "metadata": {
  "kernelspec": {
   "display_name": "Python 3 (ipykernel)",
   "language": "python",
   "name": "python3"
  },
  "language_info": {
   "codemirror_mode": {
    "name": "ipython",
    "version": 3
   },
   "file_extension": ".py",
   "mimetype": "text/x-python",
   "name": "python",
   "nbconvert_exporter": "python",
   "pygments_lexer": "ipython3",
   "version": "3.9.20"
  }
 },
 "nbformat": 4,
 "nbformat_minor": 5
}
