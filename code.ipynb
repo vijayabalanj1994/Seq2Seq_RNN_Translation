{
 "cells": [
  {
   "cell_type": "markdown",
   "id": "8402e76f-3ea6-4023-adc1-e743ed946964",
   "metadata": {},
   "source": [
    "## Importing required libraries"
   ]
  },
  {
   "cell_type": "code",
   "execution_count": 1,
   "id": "0333f49c-a1e5-491a-8195-e4319992527d",
   "metadata": {},
   "outputs": [],
   "source": [
    "# suppressing warnings\n",
    "def warn(*args, **kwargs):\n",
    "    pass\n",
    "import warnings\n",
    "warnings.warn = warn\n",
    "warnings.filterwarnings('ignore')"
   ]
  },
  {
   "cell_type": "code",
   "execution_count": 2,
   "id": "2168c0b4-3e42-4f8d-9349-1f729a61b474",
   "metadata": {},
   "outputs": [
    {
     "name": "stdout",
     "output_type": "stream",
     "text": [
      "Collecting en-core-web-sm==3.7.1\n",
      "  Downloading https://github.com/explosion/spacy-models/releases/download/en_core_web_sm-3.7.1/en_core_web_sm-3.7.1-py3-none-any.whl (12.8 MB)\n",
      "     ---------------------------------------- 0.0/12.8 MB ? eta -:--:--\n",
      "     ------ --------------------------------- 2.1/12.8 MB 11.8 MB/s eta 0:00:01\n",
      "     ----------- ---------------------------- 3.7/12.8 MB 12.1 MB/s eta 0:00:01\n",
      "     ------------------ --------------------- 5.8/12.8 MB 10.7 MB/s eta 0:00:01\n",
      "     ------------------------ --------------- 7.9/12.8 MB 9.6 MB/s eta 0:00:01\n",
      "     ------------------------------- -------- 10.0/12.8 MB 9.6 MB/s eta 0:00:01\n",
      "     -------------------------------------- - 12.3/12.8 MB 9.9 MB/s eta 0:00:01\n",
      "     ---------------------------------------- 12.8/12.8 MB 9.8 MB/s eta 0:00:00\n",
      "Requirement already satisfied: spacy<3.8.0,>=3.7.2 in c:\\users\\vijay\\anaconda3\\envs\\ibm_cuda\\lib\\site-packages (from en-core-web-sm==3.7.1) (3.7.2)\n",
      "Requirement already satisfied: spacy-legacy<3.1.0,>=3.0.11 in c:\\users\\vijay\\anaconda3\\envs\\ibm_cuda\\lib\\site-packages (from spacy<3.8.0,>=3.7.2->en-core-web-sm==3.7.1) (3.0.12)\n",
      "Requirement already satisfied: spacy-loggers<2.0.0,>=1.0.0 in c:\\users\\vijay\\anaconda3\\envs\\ibm_cuda\\lib\\site-packages (from spacy<3.8.0,>=3.7.2->en-core-web-sm==3.7.1) (1.0.4)\n",
      "Requirement already satisfied: murmurhash<1.1.0,>=0.28.0 in c:\\users\\vijay\\anaconda3\\envs\\ibm_cuda\\lib\\site-packages (from spacy<3.8.0,>=3.7.2->en-core-web-sm==3.7.1) (1.0.7)\n",
      "Requirement already satisfied: cymem<2.1.0,>=2.0.2 in c:\\users\\vijay\\anaconda3\\envs\\ibm_cuda\\lib\\site-packages (from spacy<3.8.0,>=3.7.2->en-core-web-sm==3.7.1) (2.0.6)\n",
      "Requirement already satisfied: preshed<3.1.0,>=3.0.2 in c:\\users\\vijay\\anaconda3\\envs\\ibm_cuda\\lib\\site-packages (from spacy<3.8.0,>=3.7.2->en-core-web-sm==3.7.1) (3.0.6)\n",
      "Requirement already satisfied: thinc<8.3.0,>=8.1.8 in c:\\users\\vijay\\anaconda3\\envs\\ibm_cuda\\lib\\site-packages (from spacy<3.8.0,>=3.7.2->en-core-web-sm==3.7.1) (8.2.2)\n",
      "Requirement already satisfied: wasabi<1.2.0,>=0.9.1 in c:\\users\\vijay\\anaconda3\\envs\\ibm_cuda\\lib\\site-packages (from spacy<3.8.0,>=3.7.2->en-core-web-sm==3.7.1) (0.9.1)\n",
      "Requirement already satisfied: srsly<3.0.0,>=2.4.3 in c:\\users\\vijay\\anaconda3\\envs\\ibm_cuda\\lib\\site-packages (from spacy<3.8.0,>=3.7.2->en-core-web-sm==3.7.1) (2.4.8)\n",
      "Requirement already satisfied: catalogue<2.1.0,>=2.0.6 in c:\\users\\vijay\\anaconda3\\envs\\ibm_cuda\\lib\\site-packages (from spacy<3.8.0,>=3.7.2->en-core-web-sm==3.7.1) (2.0.10)\n",
      "Requirement already satisfied: weasel<0.4.0,>=0.1.0 in c:\\users\\vijay\\anaconda3\\envs\\ibm_cuda\\lib\\site-packages (from spacy<3.8.0,>=3.7.2->en-core-web-sm==3.7.1) (0.3.4)\n",
      "Requirement already satisfied: typer<0.10.0,>=0.3.0 in c:\\users\\vijay\\anaconda3\\envs\\ibm_cuda\\lib\\site-packages (from spacy<3.8.0,>=3.7.2->en-core-web-sm==3.7.1) (0.9.0)\n",
      "Requirement already satisfied: smart-open<7.0.0,>=5.2.1 in c:\\users\\vijay\\anaconda3\\envs\\ibm_cuda\\lib\\site-packages (from spacy<3.8.0,>=3.7.2->en-core-web-sm==3.7.1) (5.2.1)\n",
      "Requirement already satisfied: tqdm<5.0.0,>=4.38.0 in c:\\users\\vijay\\anaconda3\\envs\\ibm_cuda\\lib\\site-packages (from spacy<3.8.0,>=3.7.2->en-core-web-sm==3.7.1) (4.66.5)\n",
      "Requirement already satisfied: requests<3.0.0,>=2.13.0 in c:\\users\\vijay\\anaconda3\\envs\\ibm_cuda\\lib\\site-packages (from spacy<3.8.0,>=3.7.2->en-core-web-sm==3.7.1) (2.32.3)\n",
      "Requirement already satisfied: pydantic!=1.8,!=1.8.1,<3.0.0,>=1.7.4 in c:\\users\\vijay\\anaconda3\\envs\\ibm_cuda\\lib\\site-packages (from spacy<3.8.0,>=3.7.2->en-core-web-sm==3.7.1) (2.8.2)\n",
      "Requirement already satisfied: jinja2 in c:\\users\\vijay\\anaconda3\\envs\\ibm_cuda\\lib\\site-packages (from spacy<3.8.0,>=3.7.2->en-core-web-sm==3.7.1) (3.1.4)\n",
      "Requirement already satisfied: setuptools in c:\\users\\vijay\\anaconda3\\envs\\ibm_cuda\\lib\\site-packages (from spacy<3.8.0,>=3.7.2->en-core-web-sm==3.7.1) (75.1.0)\n",
      "Requirement already satisfied: packaging>=20.0 in c:\\users\\vijay\\anaconda3\\envs\\ibm_cuda\\lib\\site-packages (from spacy<3.8.0,>=3.7.2->en-core-web-sm==3.7.1) (24.1)\n",
      "Requirement already satisfied: langcodes<4.0.0,>=3.2.0 in c:\\users\\vijay\\anaconda3\\envs\\ibm_cuda\\lib\\site-packages (from spacy<3.8.0,>=3.7.2->en-core-web-sm==3.7.1) (3.3.0)\n",
      "Requirement already satisfied: numpy>=1.19.0 in c:\\users\\vijay\\anaconda3\\envs\\ibm_cuda\\lib\\site-packages (from spacy<3.8.0,>=3.7.2->en-core-web-sm==3.7.1) (1.26.4)\n",
      "Requirement already satisfied: annotated-types>=0.4.0 in c:\\users\\vijay\\anaconda3\\envs\\ibm_cuda\\lib\\site-packages (from pydantic!=1.8,!=1.8.1,<3.0.0,>=1.7.4->spacy<3.8.0,>=3.7.2->en-core-web-sm==3.7.1) (0.6.0)\n",
      "Requirement already satisfied: pydantic-core==2.20.1 in c:\\users\\vijay\\anaconda3\\envs\\ibm_cuda\\lib\\site-packages (from pydantic!=1.8,!=1.8.1,<3.0.0,>=1.7.4->spacy<3.8.0,>=3.7.2->en-core-web-sm==3.7.1) (2.20.1)\n",
      "Requirement already satisfied: typing-extensions>=4.6.1 in c:\\users\\vijay\\anaconda3\\envs\\ibm_cuda\\lib\\site-packages (from pydantic!=1.8,!=1.8.1,<3.0.0,>=1.7.4->spacy<3.8.0,>=3.7.2->en-core-web-sm==3.7.1) (4.11.0)\n",
      "Requirement already satisfied: charset-normalizer<4,>=2 in c:\\users\\vijay\\anaconda3\\envs\\ibm_cuda\\lib\\site-packages (from requests<3.0.0,>=2.13.0->spacy<3.8.0,>=3.7.2->en-core-web-sm==3.7.1) (3.3.2)\n",
      "Requirement already satisfied: idna<4,>=2.5 in c:\\users\\vijay\\anaconda3\\envs\\ibm_cuda\\lib\\site-packages (from requests<3.0.0,>=2.13.0->spacy<3.8.0,>=3.7.2->en-core-web-sm==3.7.1) (3.7)\n",
      "Requirement already satisfied: urllib3<3,>=1.21.1 in c:\\users\\vijay\\anaconda3\\envs\\ibm_cuda\\lib\\site-packages (from requests<3.0.0,>=2.13.0->spacy<3.8.0,>=3.7.2->en-core-web-sm==3.7.1) (2.2.3)\n",
      "Requirement already satisfied: certifi>=2017.4.17 in c:\\users\\vijay\\anaconda3\\envs\\ibm_cuda\\lib\\site-packages (from requests<3.0.0,>=2.13.0->spacy<3.8.0,>=3.7.2->en-core-web-sm==3.7.1) (2024.8.30)\n",
      "Requirement already satisfied: blis<0.8.0,>=0.7.8 in c:\\users\\vijay\\anaconda3\\envs\\ibm_cuda\\lib\\site-packages (from thinc<8.3.0,>=8.1.8->spacy<3.8.0,>=3.7.2->en-core-web-sm==3.7.1) (0.7.9)\n",
      "Requirement already satisfied: confection<1.0.0,>=0.0.1 in c:\\users\\vijay\\anaconda3\\envs\\ibm_cuda\\lib\\site-packages (from thinc<8.3.0,>=8.1.8->spacy<3.8.0,>=3.7.2->en-core-web-sm==3.7.1) (0.1.4)\n",
      "Requirement already satisfied: colorama in c:\\users\\vijay\\anaconda3\\envs\\ibm_cuda\\lib\\site-packages (from tqdm<5.0.0,>=4.38.0->spacy<3.8.0,>=3.7.2->en-core-web-sm==3.7.1) (0.4.6)\n",
      "Requirement already satisfied: click<9.0.0,>=7.1.1 in c:\\users\\vijay\\anaconda3\\envs\\ibm_cuda\\lib\\site-packages (from typer<0.10.0,>=0.3.0->spacy<3.8.0,>=3.7.2->en-core-web-sm==3.7.1) (8.1.7)\n",
      "Requirement already satisfied: cloudpathlib<0.17.0,>=0.7.0 in c:\\users\\vijay\\anaconda3\\envs\\ibm_cuda\\lib\\site-packages (from weasel<0.4.0,>=0.1.0->spacy<3.8.0,>=3.7.2->en-core-web-sm==3.7.1) (0.16.0)\n",
      "Requirement already satisfied: MarkupSafe>=2.0 in c:\\users\\vijay\\anaconda3\\envs\\ibm_cuda\\lib\\site-packages (from jinja2->spacy<3.8.0,>=3.7.2->en-core-web-sm==3.7.1) (2.1.3)\n",
      "[+] Download and installation successful\n",
      "You can now load the package via spacy.load('en_core_web_sm')\n",
      "Collecting de-core-news-sm==3.7.0\n",
      "  Downloading https://github.com/explosion/spacy-models/releases/download/de_core_news_sm-3.7.0/de_core_news_sm-3.7.0-py3-none-any.whl (14.6 MB)\n",
      "     ---------------------------------------- 0.0/14.6 MB ? eta -:--:--\n",
      "     ----- ---------------------------------- 2.1/14.6 MB 13.0 MB/s eta 0:00:01\n",
      "     ------------- -------------------------- 5.0/14.6 MB 13.7 MB/s eta 0:00:01\n",
      "     -------------------- ------------------- 7.6/14.6 MB 13.4 MB/s eta 0:00:01\n",
      "     --------------------------- ----------- 10.2/14.6 MB 13.0 MB/s eta 0:00:01\n",
      "     ---------------------------------- ---- 12.8/14.6 MB 13.0 MB/s eta 0:00:01\n",
      "     --------------------------------------- 14.6/14.6 MB 12.8 MB/s eta 0:00:00\n",
      "Requirement already satisfied: spacy<3.8.0,>=3.7.0 in c:\\users\\vijay\\anaconda3\\envs\\ibm_cuda\\lib\\site-packages (from de-core-news-sm==3.7.0) (3.7.2)\n",
      "Requirement already satisfied: spacy-legacy<3.1.0,>=3.0.11 in c:\\users\\vijay\\anaconda3\\envs\\ibm_cuda\\lib\\site-packages (from spacy<3.8.0,>=3.7.0->de-core-news-sm==3.7.0) (3.0.12)\n",
      "Requirement already satisfied: spacy-loggers<2.0.0,>=1.0.0 in c:\\users\\vijay\\anaconda3\\envs\\ibm_cuda\\lib\\site-packages (from spacy<3.8.0,>=3.7.0->de-core-news-sm==3.7.0) (1.0.4)\n",
      "Requirement already satisfied: murmurhash<1.1.0,>=0.28.0 in c:\\users\\vijay\\anaconda3\\envs\\ibm_cuda\\lib\\site-packages (from spacy<3.8.0,>=3.7.0->de-core-news-sm==3.7.0) (1.0.7)\n",
      "Requirement already satisfied: cymem<2.1.0,>=2.0.2 in c:\\users\\vijay\\anaconda3\\envs\\ibm_cuda\\lib\\site-packages (from spacy<3.8.0,>=3.7.0->de-core-news-sm==3.7.0) (2.0.6)\n",
      "Requirement already satisfied: preshed<3.1.0,>=3.0.2 in c:\\users\\vijay\\anaconda3\\envs\\ibm_cuda\\lib\\site-packages (from spacy<3.8.0,>=3.7.0->de-core-news-sm==3.7.0) (3.0.6)\n",
      "Requirement already satisfied: thinc<8.3.0,>=8.1.8 in c:\\users\\vijay\\anaconda3\\envs\\ibm_cuda\\lib\\site-packages (from spacy<3.8.0,>=3.7.0->de-core-news-sm==3.7.0) (8.2.2)\n",
      "Requirement already satisfied: wasabi<1.2.0,>=0.9.1 in c:\\users\\vijay\\anaconda3\\envs\\ibm_cuda\\lib\\site-packages (from spacy<3.8.0,>=3.7.0->de-core-news-sm==3.7.0) (0.9.1)\n",
      "Requirement already satisfied: srsly<3.0.0,>=2.4.3 in c:\\users\\vijay\\anaconda3\\envs\\ibm_cuda\\lib\\site-packages (from spacy<3.8.0,>=3.7.0->de-core-news-sm==3.7.0) (2.4.8)\n",
      "Requirement already satisfied: catalogue<2.1.0,>=2.0.6 in c:\\users\\vijay\\anaconda3\\envs\\ibm_cuda\\lib\\site-packages (from spacy<3.8.0,>=3.7.0->de-core-news-sm==3.7.0) (2.0.10)\n",
      "Requirement already satisfied: weasel<0.4.0,>=0.1.0 in c:\\users\\vijay\\anaconda3\\envs\\ibm_cuda\\lib\\site-packages (from spacy<3.8.0,>=3.7.0->de-core-news-sm==3.7.0) (0.3.4)\n",
      "Requirement already satisfied: typer<0.10.0,>=0.3.0 in c:\\users\\vijay\\anaconda3\\envs\\ibm_cuda\\lib\\site-packages (from spacy<3.8.0,>=3.7.0->de-core-news-sm==3.7.0) (0.9.0)\n",
      "Requirement already satisfied: smart-open<7.0.0,>=5.2.1 in c:\\users\\vijay\\anaconda3\\envs\\ibm_cuda\\lib\\site-packages (from spacy<3.8.0,>=3.7.0->de-core-news-sm==3.7.0) (5.2.1)\n",
      "Requirement already satisfied: tqdm<5.0.0,>=4.38.0 in c:\\users\\vijay\\anaconda3\\envs\\ibm_cuda\\lib\\site-packages (from spacy<3.8.0,>=3.7.0->de-core-news-sm==3.7.0) (4.66.5)\n",
      "Requirement already satisfied: requests<3.0.0,>=2.13.0 in c:\\users\\vijay\\anaconda3\\envs\\ibm_cuda\\lib\\site-packages (from spacy<3.8.0,>=3.7.0->de-core-news-sm==3.7.0) (2.32.3)\n",
      "Requirement already satisfied: pydantic!=1.8,!=1.8.1,<3.0.0,>=1.7.4 in c:\\users\\vijay\\anaconda3\\envs\\ibm_cuda\\lib\\site-packages (from spacy<3.8.0,>=3.7.0->de-core-news-sm==3.7.0) (2.8.2)\n",
      "Requirement already satisfied: jinja2 in c:\\users\\vijay\\anaconda3\\envs\\ibm_cuda\\lib\\site-packages (from spacy<3.8.0,>=3.7.0->de-core-news-sm==3.7.0) (3.1.4)\n",
      "Requirement already satisfied: setuptools in c:\\users\\vijay\\anaconda3\\envs\\ibm_cuda\\lib\\site-packages (from spacy<3.8.0,>=3.7.0->de-core-news-sm==3.7.0) (75.1.0)\n",
      "Requirement already satisfied: packaging>=20.0 in c:\\users\\vijay\\anaconda3\\envs\\ibm_cuda\\lib\\site-packages (from spacy<3.8.0,>=3.7.0->de-core-news-sm==3.7.0) (24.1)\n",
      "Requirement already satisfied: langcodes<4.0.0,>=3.2.0 in c:\\users\\vijay\\anaconda3\\envs\\ibm_cuda\\lib\\site-packages (from spacy<3.8.0,>=3.7.0->de-core-news-sm==3.7.0) (3.3.0)\n",
      "Requirement already satisfied: numpy>=1.19.0 in c:\\users\\vijay\\anaconda3\\envs\\ibm_cuda\\lib\\site-packages (from spacy<3.8.0,>=3.7.0->de-core-news-sm==3.7.0) (1.26.4)\n",
      "Requirement already satisfied: annotated-types>=0.4.0 in c:\\users\\vijay\\anaconda3\\envs\\ibm_cuda\\lib\\site-packages (from pydantic!=1.8,!=1.8.1,<3.0.0,>=1.7.4->spacy<3.8.0,>=3.7.0->de-core-news-sm==3.7.0) (0.6.0)\n",
      "Requirement already satisfied: pydantic-core==2.20.1 in c:\\users\\vijay\\anaconda3\\envs\\ibm_cuda\\lib\\site-packages (from pydantic!=1.8,!=1.8.1,<3.0.0,>=1.7.4->spacy<3.8.0,>=3.7.0->de-core-news-sm==3.7.0) (2.20.1)\n",
      "Requirement already satisfied: typing-extensions>=4.6.1 in c:\\users\\vijay\\anaconda3\\envs\\ibm_cuda\\lib\\site-packages (from pydantic!=1.8,!=1.8.1,<3.0.0,>=1.7.4->spacy<3.8.0,>=3.7.0->de-core-news-sm==3.7.0) (4.11.0)\n",
      "Requirement already satisfied: charset-normalizer<4,>=2 in c:\\users\\vijay\\anaconda3\\envs\\ibm_cuda\\lib\\site-packages (from requests<3.0.0,>=2.13.0->spacy<3.8.0,>=3.7.0->de-core-news-sm==3.7.0) (3.3.2)\n",
      "Requirement already satisfied: idna<4,>=2.5 in c:\\users\\vijay\\anaconda3\\envs\\ibm_cuda\\lib\\site-packages (from requests<3.0.0,>=2.13.0->spacy<3.8.0,>=3.7.0->de-core-news-sm==3.7.0) (3.7)\n",
      "Requirement already satisfied: urllib3<3,>=1.21.1 in c:\\users\\vijay\\anaconda3\\envs\\ibm_cuda\\lib\\site-packages (from requests<3.0.0,>=2.13.0->spacy<3.8.0,>=3.7.0->de-core-news-sm==3.7.0) (2.2.3)\n",
      "Requirement already satisfied: certifi>=2017.4.17 in c:\\users\\vijay\\anaconda3\\envs\\ibm_cuda\\lib\\site-packages (from requests<3.0.0,>=2.13.0->spacy<3.8.0,>=3.7.0->de-core-news-sm==3.7.0) (2024.8.30)\n",
      "Requirement already satisfied: blis<0.8.0,>=0.7.8 in c:\\users\\vijay\\anaconda3\\envs\\ibm_cuda\\lib\\site-packages (from thinc<8.3.0,>=8.1.8->spacy<3.8.0,>=3.7.0->de-core-news-sm==3.7.0) (0.7.9)\n",
      "Requirement already satisfied: confection<1.0.0,>=0.0.1 in c:\\users\\vijay\\anaconda3\\envs\\ibm_cuda\\lib\\site-packages (from thinc<8.3.0,>=8.1.8->spacy<3.8.0,>=3.7.0->de-core-news-sm==3.7.0) (0.1.4)\n",
      "Requirement already satisfied: colorama in c:\\users\\vijay\\anaconda3\\envs\\ibm_cuda\\lib\\site-packages (from tqdm<5.0.0,>=4.38.0->spacy<3.8.0,>=3.7.0->de-core-news-sm==3.7.0) (0.4.6)\n",
      "Requirement already satisfied: click<9.0.0,>=7.1.1 in c:\\users\\vijay\\anaconda3\\envs\\ibm_cuda\\lib\\site-packages (from typer<0.10.0,>=0.3.0->spacy<3.8.0,>=3.7.0->de-core-news-sm==3.7.0) (8.1.7)\n",
      "Requirement already satisfied: cloudpathlib<0.17.0,>=0.7.0 in c:\\users\\vijay\\anaconda3\\envs\\ibm_cuda\\lib\\site-packages (from weasel<0.4.0,>=0.1.0->spacy<3.8.0,>=3.7.0->de-core-news-sm==3.7.0) (0.16.0)\n",
      "Requirement already satisfied: MarkupSafe>=2.0 in c:\\users\\vijay\\anaconda3\\envs\\ibm_cuda\\lib\\site-packages (from jinja2->spacy<3.8.0,>=3.7.0->de-core-news-sm==3.7.0) (2.1.3)\n",
      "[+] Download and installation successful\n",
      "You can now load the package via spacy.load('de_core_news_sm')\n"
     ]
    }
   ],
   "source": [
    "import numpy as np\n",
    "import random\n",
    "import math\n",
    "import time\n",
    "from tqdm import tqdm\n",
    "import matplotlib.pyplot as plt\n",
    "from typing import Iterable, List\n",
    "\n",
    "import torch\n",
    "import torch.nn as nn\n",
    "import torch.optim as optim\n",
    "from torch.nn.utils.rnn import pad_sequence\n",
    "from torch.utils.data import DataLoader\n",
    "\n",
    "import torchtext\n",
    "from torchtext.data.utils import get_tokenizer\n",
    "from torchtext.vocab import build_vocab_from_iterator\n",
    "from torchtext.datasets import multi30k, Multi30k\n",
    "\n",
    "from torchdata.datapipes.iter import IterableWrapper, Mapper\n",
    "\n",
    "from nltk.translate.bleu_score import sentence_bleu\n",
    "\n",
    "!python -m spacy download en_core_web_sm\n",
    "!python -m spacy download de_core_news_sm"
   ]
  },
  {
   "cell_type": "markdown",
   "id": "4ee1b9c6-2ce8-414d-9605-a95fb1668d94",
   "metadata": {},
   "source": [
    "## Checking if CUDA is available"
   ]
  },
  {
   "cell_type": "code",
   "execution_count": 3,
   "id": "0e408c82-34bf-4bd3-8989-af6b3a5d49b3",
   "metadata": {},
   "outputs": [
    {
     "name": "stdout",
     "output_type": "stream",
     "text": [
      "Using cuda device\n"
     ]
    }
   ],
   "source": [
    "device = torch.device(\"cuda\" if torch.cuda.is_available() else \"cpu\")\n",
    "print(f\"Using {device} device\")"
   ]
  },
  {
   "cell_type": "markdown",
   "id": "41c5d3c8-859b-4db0-9dc9-2a558f44623f",
   "metadata": {},
   "source": [
    "## The Encoder"
   ]
  },
  {
   "cell_type": "code",
   "execution_count": 4,
   "id": "34e75790-ea82-443b-a316-590774d8910e",
   "metadata": {},
   "outputs": [],
   "source": [
    "# a rrn implemented using \"nn.EmbeddingBag\", \"nn.LSTM\", \"nn.Dropout\" functions from \"pytorch\" library\n",
    "class Encoder(nn.Module):\n",
    "    def __init__(self, vocab_len, emb_dim, hid_dim, n_layers, dropout_prob):\n",
    "        super().__init__()\n",
    "\n",
    "        self.hid_dim = hid_dim\n",
    "        self.n_layers = n_layers\n",
    "\n",
    "        self.embedding = nn.Embedding(vocab_len, emb_dim)\n",
    "        self.lstm = nn.LSTM(emb_dim, hid_dim, n_layers, dropout=dropout_prob)\n",
    "        self.dropout = nn.Dropout(dropout_prob)\n",
    "\n",
    "    def forward(self, input_batch):\n",
    "        embed = self.dropout(self.embedding(input_batch))\n",
    "        embed = embed.to(device)\n",
    "        outputs, (hidden, cell) = self.lstm(embed)\n",
    "\n",
    "        return hidden, cell"
   ]
  },
  {
   "cell_type": "markdown",
   "id": "8d77f7dd-83cb-40c7-b7bc-3cbf7e777d08",
   "metadata": {},
   "source": [
    "#### Encoder -> example of one forward pass"
   ]
  },
  {
   "cell_type": "code",
   "execution_count": 5,
   "id": "237e17fe-82c7-419f-a620-85dd96482fd4",
   "metadata": {},
   "outputs": [],
   "source": [
    "# dummy data\n",
    "vocab_len = 8\n",
    "emb_dim = 10\n",
    "hid_dim = 8\n",
    "n_layers = 1\n",
    "dropout_prob = 0.5\n",
    "\n",
    "# instantiating the model\n",
    "encoder_t = Encoder(vocab_len, emb_dim, hid_dim, n_layers, dropout_prob).to(device)"
   ]
  },
  {
   "cell_type": "code",
   "execution_count": 32,
   "id": "ab5ed3a5-cbf1-4317-8de9-b7ae86fb4f62",
   "metadata": {},
   "outputs": [
    {
     "name": "stdout",
     "output_type": "stream",
     "text": [
      "Input(src) tensor  [shape - 5]:-\n",
      " tensor([0, 3, 4, 2, 1], device='cuda:0')\n",
      "\n",
      "Embedded tokens  [shape - 5]:-\n",
      " tensor([[-0.7081,  0.8048, -1.4479,  0.5327, -0.9940,  1.1202, -1.5410,  0.4600,\n",
      "          0.1129, -1.0188],\n",
      "        [-0.3430, -0.9896, -2.9051, -1.0750,  0.6061, -0.0841,  1.0588, -0.8620,\n",
      "          0.6973,  1.1518],\n",
      "        [-0.7842,  0.5488,  0.0891, -1.9937,  0.5474,  0.6157, -0.6369,  1.3035,\n",
      "          1.6213,  0.1466],\n",
      "        [-0.3078, -1.6557, -0.0123, -0.8786, -0.1814, -1.0452,  0.3461, -1.3314,\n",
      "         -0.6607, -0.6228],\n",
      "        [ 0.1651,  0.2855, -0.7564,  1.4578, -0.9304, -1.7696, -0.4859, -0.9556,\n",
      "         -0.1792, -0.2691]], device='cuda:0', grad_fn=<EmbeddingBackward0>)\n",
      "\n",
      "After dropout:-  [shape - 5]\n",
      " tensor([[-0.0000,  1.6097, -0.0000,  1.0653, -1.9880,  0.0000, -0.0000,  0.9201,\n",
      "          0.2257, -0.0000],\n",
      "        [-0.6859, -0.0000, -0.0000, -0.0000,  1.2123, -0.1682,  0.0000, -1.7239,\n",
      "          1.3947,  2.3035],\n",
      "        [-1.5684,  0.0000,  0.0000, -3.9874,  0.0000,  1.2315, -1.2738,  2.6070,\n",
      "          0.0000,  0.0000],\n",
      "        [-0.0000, -3.3114, -0.0246, -1.7573, -0.0000, -2.0904,  0.0000, -0.0000,\n",
      "         -1.3213, -0.0000],\n",
      "        [ 0.3302,  0.5710, -1.5127,  2.9157, -0.0000, -0.0000, -0.9718, -1.9112,\n",
      "         -0.0000, -0.0000]], device='cuda:0', grad_fn=<NativeDropoutBackward0>)\n",
      "\n",
      "Hidden:-         [shape - 1]\n",
      " tensor([[ 0.2149, -0.0092,  0.0099, -0.0045,  0.0108, -0.0351,  0.1403,  0.2575]],\n",
      "       device='cuda:0', grad_fn=<SqueezeBackward1>)\n",
      "\n",
      "Cell:-           \n",
      " tensor([[ 0.3085, -0.0136,  0.0866, -0.0054,  0.0462, -0.1788,  0.2609,  0.6243]],\n",
      "       device='cuda:0', grad_fn=<SqueezeBackward1>)\n",
      "\n",
      "Output:-         \n",
      " tensor([[-0.0744, -0.0436, -0.1405,  0.3553, -0.1104, -0.1411, -0.0109, -0.1813],\n",
      "        [-0.0630, -0.1051,  0.0572,  0.1439, -0.1765,  0.3363, -0.1720,  0.0452],\n",
      "        [ 0.1888, -0.1342, -0.0498,  0.2996, -0.3980,  0.1625, -0.0279, -0.0101],\n",
      "        [ 0.0907, -0.0962,  0.0539,  0.0334, -0.0506,  0.0503,  0.5039, -0.1595],\n",
      "        [ 0.2149, -0.0092,  0.0099, -0.0045,  0.0108, -0.0351,  0.1403,  0.2575]],\n",
      "       device='cuda:0', grad_fn=<SqueezeBackward1>)\n"
     ]
    }
   ],
   "source": [
    "# dummy data \n",
    "src_batch = torch.tensor([0,3,4,2,1]) #where 0,3,4,2,1 are vocab indecies\n",
    "src_batch = src_batch.t().to(device)\n",
    "\n",
    "# getting the embedding of the text token indices\n",
    "embedded = encoder_t.embedding(src_batch)\n",
    "# appling dropout to embedded\n",
    "embedded_dropout = encoder_t.dropout(embedded)\n",
    "embedded_dropout.to(device)\n",
    "# passing through the lstm\n",
    "outputs, (hidden, cell) = encoder_t.lstm(embedded_dropout)\n",
    "\n",
    "print(f\"Input(src) tensor  [shape -> {src_batch.shape[0]}]:-\\n\", src_batch)\n",
    "print(f\"\\nEmbedded tokens  [shape -> {embedded.shape[0]}]:-\\n\", embedded)\n",
    "print(f\"\\nAfter dropout:-  [shape -> {embedded_dropout.shape[0]}]\\n\", embedded_dropout)\n",
    "print(f\"\\nHidden:-         [shape -> {hidden.shape[0]}]\\n\", hidden)\n",
    "print(\"\\nCell:-           \\n\", cell)\n",
    "print(\"\\nOutput:-         \\n\", outputs)"
   ]
  },
  {
   "cell_type": "code",
   "execution_count": 8,
   "id": "27ea521c-dcc2-4fd0-ad9b-8fe73e3be7d1",
   "metadata": {},
   "outputs": [
    {
     "data": {
      "text/plain": [
       "tensor([0, 3, 4, 2, 1])"
      ]
     },
     "execution_count": 8,
     "metadata": {},
     "output_type": "execute_result"
    }
   ],
   "source": [
    "src_batch"
   ]
  },
  {
   "cell_type": "code",
   "execution_count": null,
   "id": "4b84b36c-2625-46c7-9ac2-5cd844341efd",
   "metadata": {},
   "outputs": [],
   "source": []
  }
 ],
 "metadata": {
  "kernelspec": {
   "display_name": "Python 3 (ipykernel)",
   "language": "python",
   "name": "python3"
  },
  "language_info": {
   "codemirror_mode": {
    "name": "ipython",
    "version": 3
   },
   "file_extension": ".py",
   "mimetype": "text/x-python",
   "name": "python",
   "nbconvert_exporter": "python",
   "pygments_lexer": "ipython3",
   "version": "3.9.20"
  }
 },
 "nbformat": 4,
 "nbformat_minor": 5
}
